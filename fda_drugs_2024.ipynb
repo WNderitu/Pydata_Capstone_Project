{
 "cells": [
  {
   "cell_type": "markdown",
   "metadata": {},
   "source": [
    "Websource –  https://www.kaggle.com/datasets/protobioengineering/united-states-fda-drugs-feb-2024/data\n",
    "Date accessed: 10th October 2024\n",
    "All FDA Drugs (United States, 1939-Present)\n",
    "credit to Proto Bioengineering on kaggle.com\n"
   ]
  },
  {
   "cell_type": "code",
   "execution_count": 16,
   "metadata": {},
   "outputs": [],
   "source": [
    "# install the required libraries for data analysis\n",
    "import numpy as np\n",
    "import pandas as pd\n",
    "import datetime as dt"
   ]
  },
  {
   "cell_type": "markdown",
   "metadata": {},
   "source": [
    "# read the data from the drugs.csv files obtained from the kaggle website"
   ]
  },
  {
   "cell_type": "markdown",
   "metadata": {},
   "source": [
    "1. Read data from the drugs.csv file"
   ]
  },
  {
   "cell_type": "code",
   "execution_count": 17,
   "metadata": {},
   "outputs": [
    {
     "name": "stdout",
     "output_type": "stream",
     "text": [
      "      application_number         sponsor_name                  brand_name  \\\n",
      "0              NDA000159                LILLY               SULFAPYRIDINE   \n",
      "1             ANDA076191                 BARR  FEXOFENADINE HYDROCHLORIDE   \n",
      "2             ANDA076191                 BARR  FEXOFENADINE HYDROCHLORIDE   \n",
      "3             ANDA076191                 BARR  FEXOFENADINE HYDROCHLORIDE   \n",
      "4             ANDA076206       ROCKWELL MEDCL                  CALCITRIOL   \n",
      "...                  ...                  ...                         ...   \n",
      "48211         ANDA076134   SUN PHARM INDS LTD                  LORATADINE   \n",
      "48212         ANDA076139                 TEVA           FOSINOPRIL SODIUM   \n",
      "48213         ANDA076139                 TEVA           FOSINOPRIL SODIUM   \n",
      "48214         ANDA076139                 TEVA           FOSINOPRIL SODIUM   \n",
      "48215         ANDA076150  INTL MEDICATION SYS                   LORAZEPAM   \n",
      "\n",
      "       product_number reference_drug                  active_ingredients  \\\n",
      "0                   1             No               SULFAPYRIDINE (500MG)   \n",
      "1                   2             No   FEXOFENADINE HYDROCHLORIDE (60MG)   \n",
      "2                   3             No  FEXOFENADINE HYDROCHLORIDE (180MG)   \n",
      "3                   1             No   FEXOFENADINE HYDROCHLORIDE (30MG)   \n",
      "4                   1             No             CALCITRIOL (0.001MG/ML)   \n",
      "...               ...            ...                                 ...   \n",
      "48211               1             No                   LORATADINE (10MG)   \n",
      "48212               3             No            FOSINOPRIL SODIUM (40MG)   \n",
      "48213               1             No            FOSINOPRIL SODIUM (10MG)   \n",
      "48214               2             No            FOSINOPRIL SODIUM (20MG)   \n",
      "48215               1             No                  LORAZEPAM (2MG/ML)   \n",
      "\n",
      "      referenced_standard dosage_form      route  marketing_status  \n",
      "0                      No      TABLET       ORAL      Discontinued  \n",
      "1                      No      TABLET       ORAL      Discontinued  \n",
      "2                      No      TABLET       ORAL      Discontinued  \n",
      "3                      No      TABLET       ORAL      Discontinued  \n",
      "4                      No  INJECTABLE  INJECTION      Discontinued  \n",
      "...                   ...         ...        ...               ...  \n",
      "48211                  No      TABLET       ORAL  Over-the-counter  \n",
      "48212                 Yes      TABLET       ORAL      Prescription  \n",
      "48213                  No      TABLET       ORAL      Prescription  \n",
      "48214                  No      TABLET       ORAL      Prescription  \n",
      "48215                  No  INJECTABLE  INJECTION      Prescription  \n",
      "\n",
      "[48216 rows x 10 columns]\n"
     ]
    }
   ],
   "source": [
    "# read data from the drugs.csv file and save it in a variable called drugs_data\n",
    "drugs_data = pd.read_csv('/Users/h.nderitu/PyData/Capstone Project/Pydata Capstone Downloaded Datasets/All FDA Drugs (United States, 1939-Present)/drugs.csv')\n",
    "print(drugs_data)\n"
   ]
  },
  {
   "cell_type": "code",
   "execution_count": 19,
   "metadata": {},
   "outputs": [
    {
     "name": "stdout",
     "output_type": "stream",
     "text": [
      "<class 'pandas.core.frame.DataFrame'>\n",
      "RangeIndex: 48216 entries, 0 to 48215\n",
      "Data columns (total 10 columns):\n",
      " #   Column               Non-Null Count  Dtype \n",
      "---  ------               --------------  ----- \n",
      " 0   application_number   48216 non-null  object\n",
      " 1   sponsor_name         48216 non-null  object\n",
      " 2   brand_name           48216 non-null  object\n",
      " 3   product_number       48216 non-null  int64 \n",
      " 4   reference_drug       48216 non-null  object\n",
      " 5   active_ingredients   48216 non-null  object\n",
      " 6   referenced_standard  46889 non-null  object\n",
      " 7   dosage_form          48215 non-null  object\n",
      " 8   route                48130 non-null  object\n",
      " 9   marketing_status     48216 non-null  object\n",
      "dtypes: int64(1), object(9)\n",
      "memory usage: 3.7+ MB\n"
     ]
    }
   ],
   "source": [
    "# check the number of rows, entries and datatypes for the drugs_data dataframe\n",
    "drugs_data.info()"
   ]
  },
  {
   "cell_type": "markdown",
   "metadata": {},
   "source": [
    "10 columns\n",
    "\n",
    "reference standard column has 46889 entries - 1325 missing values\n",
    "\n",
    "dosage form column has 48215 entries - 1 missing value\n",
    "\n",
    "route column has 48130 enries - 86 missing values\n",
    "\n",
    "\n"
   ]
  },
  {
   "cell_type": "markdown",
   "metadata": {},
   "source": [
    "# check for missingness. "
   ]
  },
  {
   "cell_type": "code",
   "execution_count": 33,
   "metadata": {},
   "outputs": [
    {
     "data": {
      "text/plain": [
       "application_number     False\n",
       "sponsor_name           False\n",
       "brand_name             False\n",
       "product_number         False\n",
       "reference_drug         False\n",
       "active_ingredients     False\n",
       "referenced_standard     True\n",
       "dosage_form             True\n",
       "route                   True\n",
       "marketing_status       False\n",
       "dtype: bool"
      ]
     },
     "execution_count": 33,
     "metadata": {},
     "output_type": "execute_result"
    }
   ],
   "source": [
    "#check which columns are missing values\n",
    "drugs_data.isnull().any()"
   ]
  },
  {
   "cell_type": "markdown",
   "metadata": {},
   "source": [
    "3 columns missing values: referenced_ standard, dosage_form and route. "
   ]
  },
  {
   "cell_type": "code",
   "execution_count": 30,
   "metadata": {},
   "outputs": [
    {
     "data": {
      "text/plain": [
       "False    46847\n",
       "True      1369\n",
       "Name: count, dtype: int64"
      ]
     },
     "execution_count": 30,
     "metadata": {},
     "output_type": "execute_result"
    }
   ],
   "source": [
    "# check number of rows with missing values. \n",
    "drugs_data.isnull().any(axis=1).value_counts()"
   ]
  },
  {
   "cell_type": "code",
   "execution_count": 31,
   "metadata": {},
   "outputs": [
    {
     "data": {
      "text/plain": [
       "False    7\n",
       "True     3\n",
       "Name: count, dtype: int64"
      ]
     },
     "execution_count": 31,
     "metadata": {},
     "output_type": "execute_result"
    }
   ],
   "source": [
    "# check number of columns with missing values. \n",
    "drugs_data.isnull().any(axis=0).value_counts()"
   ]
  },
  {
   "cell_type": "code",
   "execution_count": 38,
   "metadata": {},
   "outputs": [
    {
     "name": "stdout",
     "output_type": "stream",
     "text": [
      "      application_number          sponsor_name              brand_name  \\\n",
      "77            ANDA076558                 HIKMA           CIPROFLOXACIN   \n",
      "84            ANDA076596           TEVA PHARMS               MODAFINIL   \n",
      "85            ANDA076596           TEVA PHARMS               MODAFINIL   \n",
      "213           ANDA077121    NORVIUM BIOSCIENCE                BACLOFEN   \n",
      "292           ANDA077412           TEVA PHARMS    ESCITALOPRAM OXALATE   \n",
      "...                  ...                   ...                     ...   \n",
      "47755         ANDA071233               VINTAGE             HALOPERIDOL   \n",
      "47803         ANDA071994  IVAX SUB TEVA PHARMS  PRAZOSIN HYDROCHLORIDE   \n",
      "47891         ANDA074047                  BARR              ZIDOVUDINE   \n",
      "48026         ANDA075040           ESI LEDERLE                PROPOFOL   \n",
      "48032         ANDA075075    MYLAN TECHNOLOGIES           NITROGLYCERIN   \n",
      "\n",
      "       product_number reference_drug                    active_ingredients  \\\n",
      "77                  1             No                 CIPROFLOXACIN (250MG)   \n",
      "84                  1             No                     MODAFINIL (100MG)   \n",
      "85                  2             No                     MODAFINIL (200MG)   \n",
      "213                 1             No                       BACLOFEN (20MG)   \n",
      "292                 3             No           ESCITALOPRAM OXALATE (20MG)   \n",
      "...               ...            ...                                   ...   \n",
      "47755               1             No                   HALOPERIDOL (0.5MG)   \n",
      "47803               1             No  PRAZOSIN HYDROCHLORIDE (EQ 1MG BASE)   \n",
      "47891               1             No                    ZIDOVUDINE (100MG)   \n",
      "48026               1             No                    PROPOFOL (10MG/ML)   \n",
      "48032               1             No              NITROGLYCERIN (0.4MG/HR)   \n",
      "\n",
      "      referenced_standard             dosage_form        route  \\\n",
      "77                    NaN                  TABLET         ORAL   \n",
      "84                    NaN                  TABLET         ORAL   \n",
      "85                    NaN                  TABLET         ORAL   \n",
      "213                   NaN                  TABLET         ORAL   \n",
      "292                   NaN                  TABLET         ORAL   \n",
      "...                   ...                     ...          ...   \n",
      "47755                 NaN                  TABLET         ORAL   \n",
      "47803                 NaN                 CAPSULE         ORAL   \n",
      "47891                 NaN                 CAPSULE         ORAL   \n",
      "48026                 NaN              INJECTABLE    INJECTION   \n",
      "48032                 NaN  FILM, EXTENDED RELEASE  TRANSDERMAL   \n",
      "\n",
      "                marketing_status  \n",
      "77                  Prescription  \n",
      "84     None (Tentative Approval)  \n",
      "85     None (Tentative Approval)  \n",
      "213                 Prescription  \n",
      "292    None (Tentative Approval)  \n",
      "...                          ...  \n",
      "47755               Discontinued  \n",
      "47803               Prescription  \n",
      "47891  None (Tentative Approval)  \n",
      "48026  None (Tentative Approval)  \n",
      "48032               Discontinued  \n",
      "\n",
      "[1369 rows x 10 columns]\n"
     ]
    }
   ],
   "source": [
    "# check and select all rows and columns with missing values. \n",
    "missing_col_drugs = drugs_data[drugs_data.isnull().any(axis=1)]\n",
    "print(missing_col_drugs)"
   ]
  },
  {
   "cell_type": "code",
   "execution_count": 20,
   "metadata": {},
   "outputs": [
    {
     "data": {
      "text/html": [
       "<div>\n",
       "<style scoped>\n",
       "    .dataframe tbody tr th:only-of-type {\n",
       "        vertical-align: middle;\n",
       "    }\n",
       "\n",
       "    .dataframe tbody tr th {\n",
       "        vertical-align: top;\n",
       "    }\n",
       "\n",
       "    .dataframe thead th {\n",
       "        text-align: right;\n",
       "    }\n",
       "</style>\n",
       "<table border=\"1\" class=\"dataframe\">\n",
       "  <thead>\n",
       "    <tr style=\"text-align: right;\">\n",
       "      <th></th>\n",
       "      <th>application_number</th>\n",
       "      <th>sponsor_name</th>\n",
       "      <th>brand_name</th>\n",
       "      <th>product_number</th>\n",
       "      <th>reference_drug</th>\n",
       "      <th>active_ingredients</th>\n",
       "      <th>referenced_standard</th>\n",
       "      <th>dosage_form</th>\n",
       "      <th>route</th>\n",
       "      <th>marketing_status</th>\n",
       "    </tr>\n",
       "  </thead>\n",
       "  <tbody>\n",
       "    <tr>\n",
       "      <th>0</th>\n",
       "      <td>NDA000159</td>\n",
       "      <td>LILLY</td>\n",
       "      <td>SULFAPYRIDINE</td>\n",
       "      <td>1</td>\n",
       "      <td>No</td>\n",
       "      <td>SULFAPYRIDINE (500MG)</td>\n",
       "      <td>No</td>\n",
       "      <td>TABLET</td>\n",
       "      <td>ORAL</td>\n",
       "      <td>Discontinued</td>\n",
       "    </tr>\n",
       "    <tr>\n",
       "      <th>1</th>\n",
       "      <td>ANDA076191</td>\n",
       "      <td>BARR</td>\n",
       "      <td>FEXOFENADINE HYDROCHLORIDE</td>\n",
       "      <td>2</td>\n",
       "      <td>No</td>\n",
       "      <td>FEXOFENADINE HYDROCHLORIDE (60MG)</td>\n",
       "      <td>No</td>\n",
       "      <td>TABLET</td>\n",
       "      <td>ORAL</td>\n",
       "      <td>Discontinued</td>\n",
       "    </tr>\n",
       "    <tr>\n",
       "      <th>2</th>\n",
       "      <td>ANDA076191</td>\n",
       "      <td>BARR</td>\n",
       "      <td>FEXOFENADINE HYDROCHLORIDE</td>\n",
       "      <td>3</td>\n",
       "      <td>No</td>\n",
       "      <td>FEXOFENADINE HYDROCHLORIDE (180MG)</td>\n",
       "      <td>No</td>\n",
       "      <td>TABLET</td>\n",
       "      <td>ORAL</td>\n",
       "      <td>Discontinued</td>\n",
       "    </tr>\n",
       "    <tr>\n",
       "      <th>3</th>\n",
       "      <td>ANDA076191</td>\n",
       "      <td>BARR</td>\n",
       "      <td>FEXOFENADINE HYDROCHLORIDE</td>\n",
       "      <td>1</td>\n",
       "      <td>No</td>\n",
       "      <td>FEXOFENADINE HYDROCHLORIDE (30MG)</td>\n",
       "      <td>No</td>\n",
       "      <td>TABLET</td>\n",
       "      <td>ORAL</td>\n",
       "      <td>Discontinued</td>\n",
       "    </tr>\n",
       "    <tr>\n",
       "      <th>4</th>\n",
       "      <td>ANDA076206</td>\n",
       "      <td>ROCKWELL MEDCL</td>\n",
       "      <td>CALCITRIOL</td>\n",
       "      <td>1</td>\n",
       "      <td>No</td>\n",
       "      <td>CALCITRIOL (0.001MG/ML)</td>\n",
       "      <td>No</td>\n",
       "      <td>INJECTABLE</td>\n",
       "      <td>INJECTION</td>\n",
       "      <td>Discontinued</td>\n",
       "    </tr>\n",
       "  </tbody>\n",
       "</table>\n",
       "</div>"
      ],
      "text/plain": [
       "  application_number    sponsor_name                  brand_name  \\\n",
       "0          NDA000159           LILLY               SULFAPYRIDINE   \n",
       "1         ANDA076191            BARR  FEXOFENADINE HYDROCHLORIDE   \n",
       "2         ANDA076191            BARR  FEXOFENADINE HYDROCHLORIDE   \n",
       "3         ANDA076191            BARR  FEXOFENADINE HYDROCHLORIDE   \n",
       "4         ANDA076206  ROCKWELL MEDCL                  CALCITRIOL   \n",
       "\n",
       "   product_number reference_drug                  active_ingredients  \\\n",
       "0               1             No               SULFAPYRIDINE (500MG)   \n",
       "1               2             No   FEXOFENADINE HYDROCHLORIDE (60MG)   \n",
       "2               3             No  FEXOFENADINE HYDROCHLORIDE (180MG)   \n",
       "3               1             No   FEXOFENADINE HYDROCHLORIDE (30MG)   \n",
       "4               1             No             CALCITRIOL (0.001MG/ML)   \n",
       "\n",
       "  referenced_standard dosage_form      route marketing_status  \n",
       "0                  No      TABLET       ORAL     Discontinued  \n",
       "1                  No      TABLET       ORAL     Discontinued  \n",
       "2                  No      TABLET       ORAL     Discontinued  \n",
       "3                  No      TABLET       ORAL     Discontinued  \n",
       "4                  No  INJECTABLE  INJECTION     Discontinued  "
      ]
     },
     "execution_count": 20,
     "metadata": {},
     "output_type": "execute_result"
    }
   ],
   "source": [
    "drugs_data.head()"
   ]
  }
 ],
 "metadata": {
  "language_info": {
   "name": "python"
  }
 },
 "nbformat": 4,
 "nbformat_minor": 2
}
