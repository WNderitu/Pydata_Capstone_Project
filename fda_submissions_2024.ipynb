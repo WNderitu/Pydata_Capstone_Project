{
 "cells": [
  {
   "cell_type": "markdown",
   "metadata": {},
   "source": [
    "Websource –  https://www.kaggle.com/datasets/protobioengineering/united-states-fda-drugs-feb-2024/data\n",
    "Date accessed: 10th October 2024\n",
    "All FDA Drugs (United States, 1939-Present)\n",
    "credit to Proto Bioengineering on kaggle.com"
   ]
  },
  {
   "cell_type": "code",
   "execution_count": 261,
   "metadata": {},
   "outputs": [],
   "source": [
    "# install the required libraries for data analysis\n",
    "import numpy as np\n",
    "import pandas as pd"
   ]
  },
  {
   "cell_type": "markdown",
   "metadata": {},
   "source": [
    "# read the data from the submissions.csv file from the kaggle website"
   ]
  },
  {
   "cell_type": "code",
   "execution_count": 262,
   "metadata": {},
   "outputs": [
    {
     "name": "stdout",
     "output_type": "stream",
     "text": [
      "       application_number         sponsor_name                  brand_name  \\\n",
      "0               NDA000159                LILLY               SULFAPYRIDINE   \n",
      "1               NDA000159                LILLY               SULFAPYRIDINE   \n",
      "2               NDA000159                LILLY               SULFAPYRIDINE   \n",
      "3              ANDA076191                 BARR  FEXOFENADINE HYDROCHLORIDE   \n",
      "4              ANDA076206       ROCKWELL MEDCL                  CALCITRIOL   \n",
      "...                   ...                  ...                         ...   \n",
      "178584         ANDA076150  INTL MEDICATION SYS                   LORAZEPAM   \n",
      "178585         ANDA076150  INTL MEDICATION SYS                   LORAZEPAM   \n",
      "178586         ANDA076150  INTL MEDICATION SYS                   LORAZEPAM   \n",
      "178587         ANDA076150  INTL MEDICATION SYS                   LORAZEPAM   \n",
      "178588         ANDA076150  INTL MEDICATION SYS                   LORAZEPAM   \n",
      "\n",
      "       submission_type  submission_number submission_status  \\\n",
      "0                 ORIG                  1                AP   \n",
      "1                SUPPL                  4                AP   \n",
      "2                SUPPL                  3                AP   \n",
      "3                 ORIG                  1                AP   \n",
      "4                SUPPL                  6                AP   \n",
      "...                ...                ...               ...   \n",
      "178584           SUPPL                  5                AP   \n",
      "178585           SUPPL                  3                AP   \n",
      "178586           SUPPL                  1                AP   \n",
      "178587           SUPPL                  6                AP   \n",
      "178588            ORIG                  1                AP   \n",
      "\n",
      "        submission_status_date submission_class_code  \\\n",
      "0                     19390309                   NaN   \n",
      "1                     19860528              LABELING   \n",
      "2                     19861209              LABELING   \n",
      "3                     20050831                   NaN   \n",
      "4                     20070914              LABELING   \n",
      "...                        ...                   ...   \n",
      "178584                20220809              LABELING   \n",
      "178585                20200605              LABELING   \n",
      "178586                20120913              LABELING   \n",
      "178587                20240607              LABELING   \n",
      "178588                20041115                   NaN   \n",
      "\n",
      "       submission_class_code_description review_priority  \n",
      "0                                    NaN             NaN  \n",
      "1                               Labeling             NaN  \n",
      "2                               Labeling             NaN  \n",
      "3                                    NaN             NaN  \n",
      "4                               Labeling             NaN  \n",
      "...                                  ...             ...  \n",
      "178584                          Labeling        STANDARD  \n",
      "178585                          Labeling        STANDARD  \n",
      "178586                          Labeling        STANDARD  \n",
      "178587                          Labeling        STANDARD  \n",
      "178588                               NaN             NaN  \n",
      "\n",
      "[178589 rows x 10 columns]\n"
     ]
    }
   ],
   "source": [
    "# read data from the submissions.csv file and save it in a variable called submissions_data\n",
    "submissions_data = pd.read_csv('/Users/h.nderitu/PyData/Capstone Project/Pydata Capstone Downloaded Datasets/All FDA Drugs (United States, 1939-Present)/submissions.csv')\n",
    "print(submissions_data)"
   ]
  },
  {
   "cell_type": "code",
   "execution_count": 263,
   "metadata": {},
   "outputs": [
    {
     "data": {
      "text/html": [
       "<div>\n",
       "<style scoped>\n",
       "    .dataframe tbody tr th:only-of-type {\n",
       "        vertical-align: middle;\n",
       "    }\n",
       "\n",
       "    .dataframe tbody tr th {\n",
       "        vertical-align: top;\n",
       "    }\n",
       "\n",
       "    .dataframe thead th {\n",
       "        text-align: right;\n",
       "    }\n",
       "</style>\n",
       "<table border=\"1\" class=\"dataframe\">\n",
       "  <thead>\n",
       "    <tr style=\"text-align: right;\">\n",
       "      <th></th>\n",
       "      <th>application_number</th>\n",
       "      <th>sponsor_name</th>\n",
       "      <th>brand_name</th>\n",
       "      <th>submission_type</th>\n",
       "      <th>submission_number</th>\n",
       "      <th>submission_status</th>\n",
       "      <th>submission_status_date</th>\n",
       "      <th>submission_class_code</th>\n",
       "      <th>submission_class_code_description</th>\n",
       "      <th>review_priority</th>\n",
       "    </tr>\n",
       "  </thead>\n",
       "  <tbody>\n",
       "    <tr>\n",
       "      <th>0</th>\n",
       "      <td>NDA000159</td>\n",
       "      <td>LILLY</td>\n",
       "      <td>SULFAPYRIDINE</td>\n",
       "      <td>ORIG</td>\n",
       "      <td>1</td>\n",
       "      <td>AP</td>\n",
       "      <td>19390309</td>\n",
       "      <td>NaN</td>\n",
       "      <td>NaN</td>\n",
       "      <td>NaN</td>\n",
       "    </tr>\n",
       "    <tr>\n",
       "      <th>1</th>\n",
       "      <td>NDA000159</td>\n",
       "      <td>LILLY</td>\n",
       "      <td>SULFAPYRIDINE</td>\n",
       "      <td>SUPPL</td>\n",
       "      <td>4</td>\n",
       "      <td>AP</td>\n",
       "      <td>19860528</td>\n",
       "      <td>LABELING</td>\n",
       "      <td>Labeling</td>\n",
       "      <td>NaN</td>\n",
       "    </tr>\n",
       "    <tr>\n",
       "      <th>2</th>\n",
       "      <td>NDA000159</td>\n",
       "      <td>LILLY</td>\n",
       "      <td>SULFAPYRIDINE</td>\n",
       "      <td>SUPPL</td>\n",
       "      <td>3</td>\n",
       "      <td>AP</td>\n",
       "      <td>19861209</td>\n",
       "      <td>LABELING</td>\n",
       "      <td>Labeling</td>\n",
       "      <td>NaN</td>\n",
       "    </tr>\n",
       "    <tr>\n",
       "      <th>3</th>\n",
       "      <td>ANDA076191</td>\n",
       "      <td>BARR</td>\n",
       "      <td>FEXOFENADINE HYDROCHLORIDE</td>\n",
       "      <td>ORIG</td>\n",
       "      <td>1</td>\n",
       "      <td>AP</td>\n",
       "      <td>20050831</td>\n",
       "      <td>NaN</td>\n",
       "      <td>NaN</td>\n",
       "      <td>NaN</td>\n",
       "    </tr>\n",
       "    <tr>\n",
       "      <th>4</th>\n",
       "      <td>ANDA076206</td>\n",
       "      <td>ROCKWELL MEDCL</td>\n",
       "      <td>CALCITRIOL</td>\n",
       "      <td>SUPPL</td>\n",
       "      <td>6</td>\n",
       "      <td>AP</td>\n",
       "      <td>20070914</td>\n",
       "      <td>LABELING</td>\n",
       "      <td>Labeling</td>\n",
       "      <td>NaN</td>\n",
       "    </tr>\n",
       "    <tr>\n",
       "      <th>5</th>\n",
       "      <td>ANDA076206</td>\n",
       "      <td>ROCKWELL MEDCL</td>\n",
       "      <td>CALCITRIOL</td>\n",
       "      <td>SUPPL</td>\n",
       "      <td>4</td>\n",
       "      <td>AP</td>\n",
       "      <td>20070223</td>\n",
       "      <td>LABELING</td>\n",
       "      <td>Labeling</td>\n",
       "      <td>NaN</td>\n",
       "    </tr>\n",
       "    <tr>\n",
       "      <th>6</th>\n",
       "      <td>ANDA076206</td>\n",
       "      <td>ROCKWELL MEDCL</td>\n",
       "      <td>CALCITRIOL</td>\n",
       "      <td>ORIG</td>\n",
       "      <td>1</td>\n",
       "      <td>AP</td>\n",
       "      <td>20030917</td>\n",
       "      <td>NaN</td>\n",
       "      <td>NaN</td>\n",
       "      <td>NaN</td>\n",
       "    </tr>\n",
       "    <tr>\n",
       "      <th>7</th>\n",
       "      <td>ANDA076206</td>\n",
       "      <td>ROCKWELL MEDCL</td>\n",
       "      <td>CALCITRIOL</td>\n",
       "      <td>SUPPL</td>\n",
       "      <td>7</td>\n",
       "      <td>AP</td>\n",
       "      <td>20140617</td>\n",
       "      <td>MANUF (CMC)</td>\n",
       "      <td>Manufacturing (CMC)</td>\n",
       "      <td>UNKNOWN</td>\n",
       "    </tr>\n",
       "    <tr>\n",
       "      <th>8</th>\n",
       "      <td>ANDA076211</td>\n",
       "      <td>TEVA</td>\n",
       "      <td>BENAZEPRIL HYDROCHLORIDE</td>\n",
       "      <td>SUPPL</td>\n",
       "      <td>18</td>\n",
       "      <td>AP</td>\n",
       "      <td>20150422</td>\n",
       "      <td>LABELING</td>\n",
       "      <td>Labeling</td>\n",
       "      <td>STANDARD</td>\n",
       "    </tr>\n",
       "    <tr>\n",
       "      <th>9</th>\n",
       "      <td>ANDA076211</td>\n",
       "      <td>TEVA</td>\n",
       "      <td>BENAZEPRIL HYDROCHLORIDE</td>\n",
       "      <td>SUPPL</td>\n",
       "      <td>16</td>\n",
       "      <td>AP</td>\n",
       "      <td>20121108</td>\n",
       "      <td>LABELING</td>\n",
       "      <td>Labeling</td>\n",
       "      <td>STANDARD</td>\n",
       "    </tr>\n",
       "  </tbody>\n",
       "</table>\n",
       "</div>"
      ],
      "text/plain": [
       "  application_number    sponsor_name                  brand_name  \\\n",
       "0          NDA000159           LILLY               SULFAPYRIDINE   \n",
       "1          NDA000159           LILLY               SULFAPYRIDINE   \n",
       "2          NDA000159           LILLY               SULFAPYRIDINE   \n",
       "3         ANDA076191            BARR  FEXOFENADINE HYDROCHLORIDE   \n",
       "4         ANDA076206  ROCKWELL MEDCL                  CALCITRIOL   \n",
       "5         ANDA076206  ROCKWELL MEDCL                  CALCITRIOL   \n",
       "6         ANDA076206  ROCKWELL MEDCL                  CALCITRIOL   \n",
       "7         ANDA076206  ROCKWELL MEDCL                  CALCITRIOL   \n",
       "8         ANDA076211            TEVA    BENAZEPRIL HYDROCHLORIDE   \n",
       "9         ANDA076211            TEVA    BENAZEPRIL HYDROCHLORIDE   \n",
       "\n",
       "  submission_type  submission_number submission_status  \\\n",
       "0            ORIG                  1                AP   \n",
       "1           SUPPL                  4                AP   \n",
       "2           SUPPL                  3                AP   \n",
       "3            ORIG                  1                AP   \n",
       "4           SUPPL                  6                AP   \n",
       "5           SUPPL                  4                AP   \n",
       "6            ORIG                  1                AP   \n",
       "7           SUPPL                  7                AP   \n",
       "8           SUPPL                 18                AP   \n",
       "9           SUPPL                 16                AP   \n",
       "\n",
       "   submission_status_date submission_class_code  \\\n",
       "0                19390309                   NaN   \n",
       "1                19860528              LABELING   \n",
       "2                19861209              LABELING   \n",
       "3                20050831                   NaN   \n",
       "4                20070914              LABELING   \n",
       "5                20070223              LABELING   \n",
       "6                20030917                   NaN   \n",
       "7                20140617           MANUF (CMC)   \n",
       "8                20150422              LABELING   \n",
       "9                20121108              LABELING   \n",
       "\n",
       "  submission_class_code_description review_priority  \n",
       "0                               NaN             NaN  \n",
       "1                          Labeling             NaN  \n",
       "2                          Labeling             NaN  \n",
       "3                               NaN             NaN  \n",
       "4                          Labeling             NaN  \n",
       "5                          Labeling             NaN  \n",
       "6                               NaN             NaN  \n",
       "7               Manufacturing (CMC)         UNKNOWN  \n",
       "8                          Labeling        STANDARD  \n",
       "9                          Labeling        STANDARD  "
      ]
     },
     "execution_count": 263,
     "metadata": {},
     "output_type": "execute_result"
    }
   ],
   "source": [
    "submissions_data.head(10)"
   ]
  },
  {
   "cell_type": "code",
   "execution_count": 264,
   "metadata": {},
   "outputs": [
    {
     "name": "stdout",
     "output_type": "stream",
     "text": [
      "<class 'pandas.core.frame.DataFrame'>\n",
      "RangeIndex: 178589 entries, 0 to 178588\n",
      "Data columns (total 10 columns):\n",
      " #   Column                             Non-Null Count   Dtype \n",
      "---  ------                             --------------   ----- \n",
      " 0   application_number                 178589 non-null  object\n",
      " 1   sponsor_name                       178589 non-null  object\n",
      " 2   brand_name                         178233 non-null  object\n",
      " 3   submission_type                    178589 non-null  object\n",
      " 4   submission_number                  178589 non-null  int64 \n",
      " 5   submission_status                  178589 non-null  object\n",
      " 6   submission_status_date             178589 non-null  int64 \n",
      " 7   submission_class_code              166994 non-null  object\n",
      " 8   submission_class_code_description  159508 non-null  object\n",
      " 9   review_priority                    100999 non-null  object\n",
      "dtypes: int64(2), object(8)\n",
      "memory usage: 13.6+ MB\n"
     ]
    }
   ],
   "source": [
    "submissions_data.info()"
   ]
  },
  {
   "cell_type": "code",
   "execution_count": 265,
   "metadata": {},
   "outputs": [
    {
     "data": {
      "text/html": [
       "<div>\n",
       "<style scoped>\n",
       "    .dataframe tbody tr th:only-of-type {\n",
       "        vertical-align: middle;\n",
       "    }\n",
       "\n",
       "    .dataframe tbody tr th {\n",
       "        vertical-align: top;\n",
       "    }\n",
       "\n",
       "    .dataframe thead th {\n",
       "        text-align: right;\n",
       "    }\n",
       "</style>\n",
       "<table border=\"1\" class=\"dataframe\">\n",
       "  <thead>\n",
       "    <tr style=\"text-align: right;\">\n",
       "      <th></th>\n",
       "      <th>application_number</th>\n",
       "      <th>sponsor_name</th>\n",
       "      <th>brand_name</th>\n",
       "      <th>submission_type</th>\n",
       "      <th>submission_number</th>\n",
       "      <th>submission_status</th>\n",
       "      <th>submission_status_date</th>\n",
       "      <th>submission_class_code</th>\n",
       "      <th>submission_class_code_description</th>\n",
       "      <th>review_priority</th>\n",
       "    </tr>\n",
       "  </thead>\n",
       "  <tbody>\n",
       "    <tr>\n",
       "      <th>178584</th>\n",
       "      <td>ANDA076150</td>\n",
       "      <td>INTL MEDICATION SYS</td>\n",
       "      <td>LORAZEPAM</td>\n",
       "      <td>SUPPL</td>\n",
       "      <td>5</td>\n",
       "      <td>AP</td>\n",
       "      <td>20220809</td>\n",
       "      <td>LABELING</td>\n",
       "      <td>Labeling</td>\n",
       "      <td>STANDARD</td>\n",
       "    </tr>\n",
       "    <tr>\n",
       "      <th>178585</th>\n",
       "      <td>ANDA076150</td>\n",
       "      <td>INTL MEDICATION SYS</td>\n",
       "      <td>LORAZEPAM</td>\n",
       "      <td>SUPPL</td>\n",
       "      <td>3</td>\n",
       "      <td>AP</td>\n",
       "      <td>20200605</td>\n",
       "      <td>LABELING</td>\n",
       "      <td>Labeling</td>\n",
       "      <td>STANDARD</td>\n",
       "    </tr>\n",
       "    <tr>\n",
       "      <th>178586</th>\n",
       "      <td>ANDA076150</td>\n",
       "      <td>INTL MEDICATION SYS</td>\n",
       "      <td>LORAZEPAM</td>\n",
       "      <td>SUPPL</td>\n",
       "      <td>1</td>\n",
       "      <td>AP</td>\n",
       "      <td>20120913</td>\n",
       "      <td>LABELING</td>\n",
       "      <td>Labeling</td>\n",
       "      <td>STANDARD</td>\n",
       "    </tr>\n",
       "    <tr>\n",
       "      <th>178587</th>\n",
       "      <td>ANDA076150</td>\n",
       "      <td>INTL MEDICATION SYS</td>\n",
       "      <td>LORAZEPAM</td>\n",
       "      <td>SUPPL</td>\n",
       "      <td>6</td>\n",
       "      <td>AP</td>\n",
       "      <td>20240607</td>\n",
       "      <td>LABELING</td>\n",
       "      <td>Labeling</td>\n",
       "      <td>STANDARD</td>\n",
       "    </tr>\n",
       "    <tr>\n",
       "      <th>178588</th>\n",
       "      <td>ANDA076150</td>\n",
       "      <td>INTL MEDICATION SYS</td>\n",
       "      <td>LORAZEPAM</td>\n",
       "      <td>ORIG</td>\n",
       "      <td>1</td>\n",
       "      <td>AP</td>\n",
       "      <td>20041115</td>\n",
       "      <td>NaN</td>\n",
       "      <td>NaN</td>\n",
       "      <td>NaN</td>\n",
       "    </tr>\n",
       "  </tbody>\n",
       "</table>\n",
       "</div>"
      ],
      "text/plain": [
       "       application_number         sponsor_name brand_name submission_type  \\\n",
       "178584         ANDA076150  INTL MEDICATION SYS  LORAZEPAM           SUPPL   \n",
       "178585         ANDA076150  INTL MEDICATION SYS  LORAZEPAM           SUPPL   \n",
       "178586         ANDA076150  INTL MEDICATION SYS  LORAZEPAM           SUPPL   \n",
       "178587         ANDA076150  INTL MEDICATION SYS  LORAZEPAM           SUPPL   \n",
       "178588         ANDA076150  INTL MEDICATION SYS  LORAZEPAM            ORIG   \n",
       "\n",
       "        submission_number submission_status  submission_status_date  \\\n",
       "178584                  5                AP                20220809   \n",
       "178585                  3                AP                20200605   \n",
       "178586                  1                AP                20120913   \n",
       "178587                  6                AP                20240607   \n",
       "178588                  1                AP                20041115   \n",
       "\n",
       "       submission_class_code submission_class_code_description review_priority  \n",
       "178584              LABELING                          Labeling        STANDARD  \n",
       "178585              LABELING                          Labeling        STANDARD  \n",
       "178586              LABELING                          Labeling        STANDARD  \n",
       "178587              LABELING                          Labeling        STANDARD  \n",
       "178588                   NaN                               NaN             NaN  "
      ]
     },
     "execution_count": 265,
     "metadata": {},
     "output_type": "execute_result"
    }
   ],
   "source": [
    "submissions_data.tail()"
   ]
  },
  {
   "cell_type": "markdown",
   "metadata": {},
   "source": [
    "The column for submission status date is int64 instead of a date type. \n",
    "\n",
    "Conversion of the datatype for the submission_status_date column from int64 to a date type."
   ]
  },
  {
   "cell_type": "code",
   "execution_count": 266,
   "metadata": {},
   "outputs": [],
   "source": [
    "submissions_data['submission_status_date'] = pd.to_datetime(submissions_data['submission_status_date'], format = '%Y%m%d')\n"
   ]
  },
  {
   "cell_type": "code",
   "execution_count": 267,
   "metadata": {},
   "outputs": [
    {
     "name": "stdout",
     "output_type": "stream",
     "text": [
      "<class 'pandas.core.frame.DataFrame'>\n",
      "RangeIndex: 178589 entries, 0 to 178588\n",
      "Data columns (total 10 columns):\n",
      " #   Column                             Non-Null Count   Dtype         \n",
      "---  ------                             --------------   -----         \n",
      " 0   application_number                 178589 non-null  object        \n",
      " 1   sponsor_name                       178589 non-null  object        \n",
      " 2   brand_name                         178233 non-null  object        \n",
      " 3   submission_type                    178589 non-null  object        \n",
      " 4   submission_number                  178589 non-null  int64         \n",
      " 5   submission_status                  178589 non-null  object        \n",
      " 6   submission_status_date             178589 non-null  datetime64[ns]\n",
      " 7   submission_class_code              166994 non-null  object        \n",
      " 8   submission_class_code_description  159508 non-null  object        \n",
      " 9   review_priority                    100999 non-null  object        \n",
      "dtypes: datetime64[ns](1), int64(1), object(8)\n",
      "memory usage: 13.6+ MB\n"
     ]
    }
   ],
   "source": [
    "submissions_data.info()"
   ]
  },
  {
   "cell_type": "code",
   "execution_count": 268,
   "metadata": {},
   "outputs": [
    {
     "data": {
      "text/plain": [
       "application_number                   False\n",
       "sponsor_name                         False\n",
       "brand_name                            True\n",
       "submission_type                      False\n",
       "submission_number                    False\n",
       "submission_status                    False\n",
       "submission_status_date               False\n",
       "submission_class_code                 True\n",
       "submission_class_code_description     True\n",
       "review_priority                       True\n",
       "dtype: bool"
      ]
     },
     "execution_count": 268,
     "metadata": {},
     "output_type": "execute_result"
    }
   ],
   "source": [
    "# check which columns are missing values\n",
    "submissions_data.isnull().any()"
   ]
  },
  {
   "cell_type": "markdown",
   "metadata": {},
   "source": [
    "4 columns with missing values;brand_name, submission_class_code, submission_class_code_description, review_priority "
   ]
  },
  {
   "cell_type": "code",
   "execution_count": 269,
   "metadata": {},
   "outputs": [
    {
     "data": {
      "text/plain": [
       "False    94334\n",
       "True     84255\n",
       "Name: count, dtype: int64"
      ]
     },
     "execution_count": 269,
     "metadata": {},
     "output_type": "execute_result"
    }
   ],
   "source": [
    "# check number of rows with missing values.\n",
    "submissions_data.isnull().any(axis=1).value_counts()"
   ]
  },
  {
   "cell_type": "code",
   "execution_count": 270,
   "metadata": {},
   "outputs": [
    {
     "data": {
      "text/plain": [
       "False    6\n",
       "True     4\n",
       "Name: count, dtype: int64"
      ]
     },
     "execution_count": 270,
     "metadata": {},
     "output_type": "execute_result"
    }
   ],
   "source": [
    "# check number of columns with missing values\n",
    "submissions_data.isnull().any(axis=0).value_counts()"
   ]
  },
  {
   "cell_type": "code",
   "execution_count": 271,
   "metadata": {},
   "outputs": [
    {
     "name": "stdout",
     "output_type": "stream",
     "text": [
      "       application_number         sponsor_name                  brand_name  \\\n",
      "0               NDA000159                LILLY               SULFAPYRIDINE   \n",
      "1               NDA000159                LILLY               SULFAPYRIDINE   \n",
      "2               NDA000159                LILLY               SULFAPYRIDINE   \n",
      "3              ANDA076191                 BARR  FEXOFENADINE HYDROCHLORIDE   \n",
      "4              ANDA076206       ROCKWELL MEDCL                  CALCITRIOL   \n",
      "...                   ...                  ...                         ...   \n",
      "178580         ANDA076134   SUN PHARM INDS LTD                  LORATADINE   \n",
      "178581         ANDA076139                 TEVA           FOSINOPRIL SODIUM   \n",
      "178582         ANDA076139                 TEVA           FOSINOPRIL SODIUM   \n",
      "178583         ANDA076139                 TEVA           FOSINOPRIL SODIUM   \n",
      "178588         ANDA076150  INTL MEDICATION SYS                   LORAZEPAM   \n",
      "\n",
      "       submission_type  submission_number submission_status  \\\n",
      "0                 ORIG                  1                AP   \n",
      "1                SUPPL                  4                AP   \n",
      "2                SUPPL                  3                AP   \n",
      "3                 ORIG                  1                AP   \n",
      "4                SUPPL                  6                AP   \n",
      "...                ...                ...               ...   \n",
      "178580           SUPPL                  8                AP   \n",
      "178581            ORIG                  1                AP   \n",
      "178582           SUPPL                  5                AP   \n",
      "178583           SUPPL                  3                AP   \n",
      "178588            ORIG                  1                AP   \n",
      "\n",
      "       submission_status_date submission_class_code  \\\n",
      "0                  1939-03-09                   NaN   \n",
      "1                  1986-05-28              LABELING   \n",
      "2                  1986-12-09              LABELING   \n",
      "3                  2005-08-31                   NaN   \n",
      "4                  2007-09-14              LABELING   \n",
      "...                       ...                   ...   \n",
      "178580             2007-04-16              LABELING   \n",
      "178581             2003-11-25                   NaN   \n",
      "178582             2009-09-29              LABELING   \n",
      "178583             2007-05-08              LABELING   \n",
      "178588             2004-11-15                   NaN   \n",
      "\n",
      "       submission_class_code_description review_priority  \n",
      "0                                    NaN             NaN  \n",
      "1                               Labeling             NaN  \n",
      "2                               Labeling             NaN  \n",
      "3                                    NaN             NaN  \n",
      "4                               Labeling             NaN  \n",
      "...                                  ...             ...  \n",
      "178580                          Labeling             NaN  \n",
      "178581                               NaN             NaN  \n",
      "178582                          Labeling             NaN  \n",
      "178583                          Labeling             NaN  \n",
      "178588                               NaN             NaN  \n",
      "\n",
      "[84255 rows x 10 columns]\n"
     ]
    }
   ],
   "source": [
    "# check and select all rows and columns with missing values. \n",
    "missing_values_df = submissions_data[submissions_data.isnull().any(axis=1)]\n",
    "print(missing_values_df)"
   ]
  },
  {
   "cell_type": "code",
   "execution_count": 272,
   "metadata": {},
   "outputs": [
    {
     "data": {
      "text/plain": [
       "Timestamp('1939-02-09 00:00:00')"
      ]
     },
     "execution_count": 272,
     "metadata": {},
     "output_type": "execute_result"
    }
   ],
   "source": [
    "# check the oldest date of the submissions_data\n",
    "submissions_data['submission_status_date'].min()"
   ]
  },
  {
   "cell_type": "code",
   "execution_count": 273,
   "metadata": {},
   "outputs": [
    {
     "data": {
      "text/plain": [
       "Timestamp('2024-10-04 00:00:00')"
      ]
     },
     "execution_count": 273,
     "metadata": {},
     "output_type": "execute_result"
    }
   ],
   "source": [
    "# check the latest date of the submissions_data\n",
    "submissions_data['submission_status_date'].max()"
   ]
  },
  {
   "cell_type": "code",
   "execution_count": 274,
   "metadata": {},
   "outputs": [
    {
     "name": "stdout",
     "output_type": "stream",
     "text": [
      "<class 'pandas.core.frame.DataFrame'>\n",
      "DatetimeIndex: 178589 entries, 1939-03-09 to 2004-11-15\n",
      "Data columns (total 9 columns):\n",
      " #   Column                             Non-Null Count   Dtype \n",
      "---  ------                             --------------   ----- \n",
      " 0   application_number                 178589 non-null  object\n",
      " 1   sponsor_name                       178589 non-null  object\n",
      " 2   brand_name                         178233 non-null  object\n",
      " 3   submission_type                    178589 non-null  object\n",
      " 4   submission_number                  178589 non-null  int64 \n",
      " 5   submission_status                  178589 non-null  object\n",
      " 6   submission_class_code              166994 non-null  object\n",
      " 7   submission_class_code_description  159508 non-null  object\n",
      " 8   review_priority                    100999 non-null  object\n",
      "dtypes: int64(1), object(8)\n",
      "memory usage: 13.6+ MB\n"
     ]
    }
   ],
   "source": [
    "# set the submissions_status_date column as the index column\n",
    "submissions_data_date_index = submissions_data.set_index('submission_status_date')\n",
    "submissions_data_date_index.info()\n"
   ]
  },
  {
   "cell_type": "code",
   "execution_count": 275,
   "metadata": {},
   "outputs": [
    {
     "data": {
      "text/html": [
       "<div>\n",
       "<style scoped>\n",
       "    .dataframe tbody tr th:only-of-type {\n",
       "        vertical-align: middle;\n",
       "    }\n",
       "\n",
       "    .dataframe tbody tr th {\n",
       "        vertical-align: top;\n",
       "    }\n",
       "\n",
       "    .dataframe thead th {\n",
       "        text-align: right;\n",
       "    }\n",
       "</style>\n",
       "<table border=\"1\" class=\"dataframe\">\n",
       "  <thead>\n",
       "    <tr style=\"text-align: right;\">\n",
       "      <th></th>\n",
       "      <th>application_number</th>\n",
       "      <th>sponsor_name</th>\n",
       "      <th>brand_name</th>\n",
       "      <th>submission_type</th>\n",
       "      <th>submission_number</th>\n",
       "      <th>submission_status</th>\n",
       "      <th>submission_class_code</th>\n",
       "      <th>submission_class_code_description</th>\n",
       "      <th>review_priority</th>\n",
       "    </tr>\n",
       "    <tr>\n",
       "      <th>submission_status_date</th>\n",
       "      <th></th>\n",
       "      <th></th>\n",
       "      <th></th>\n",
       "      <th></th>\n",
       "      <th></th>\n",
       "      <th></th>\n",
       "      <th></th>\n",
       "      <th></th>\n",
       "      <th></th>\n",
       "    </tr>\n",
       "  </thead>\n",
       "  <tbody>\n",
       "    <tr>\n",
       "      <th>1939-03-09</th>\n",
       "      <td>NDA000159</td>\n",
       "      <td>LILLY</td>\n",
       "      <td>SULFAPYRIDINE</td>\n",
       "      <td>ORIG</td>\n",
       "      <td>1</td>\n",
       "      <td>AP</td>\n",
       "      <td>NaN</td>\n",
       "      <td>NaN</td>\n",
       "      <td>NaN</td>\n",
       "    </tr>\n",
       "    <tr>\n",
       "      <th>1986-05-28</th>\n",
       "      <td>NDA000159</td>\n",
       "      <td>LILLY</td>\n",
       "      <td>SULFAPYRIDINE</td>\n",
       "      <td>SUPPL</td>\n",
       "      <td>4</td>\n",
       "      <td>AP</td>\n",
       "      <td>LABELING</td>\n",
       "      <td>Labeling</td>\n",
       "      <td>NaN</td>\n",
       "    </tr>\n",
       "    <tr>\n",
       "      <th>1986-12-09</th>\n",
       "      <td>NDA000159</td>\n",
       "      <td>LILLY</td>\n",
       "      <td>SULFAPYRIDINE</td>\n",
       "      <td>SUPPL</td>\n",
       "      <td>3</td>\n",
       "      <td>AP</td>\n",
       "      <td>LABELING</td>\n",
       "      <td>Labeling</td>\n",
       "      <td>NaN</td>\n",
       "    </tr>\n",
       "    <tr>\n",
       "      <th>2005-08-31</th>\n",
       "      <td>ANDA076191</td>\n",
       "      <td>BARR</td>\n",
       "      <td>FEXOFENADINE HYDROCHLORIDE</td>\n",
       "      <td>ORIG</td>\n",
       "      <td>1</td>\n",
       "      <td>AP</td>\n",
       "      <td>NaN</td>\n",
       "      <td>NaN</td>\n",
       "      <td>NaN</td>\n",
       "    </tr>\n",
       "    <tr>\n",
       "      <th>2007-09-14</th>\n",
       "      <td>ANDA076206</td>\n",
       "      <td>ROCKWELL MEDCL</td>\n",
       "      <td>CALCITRIOL</td>\n",
       "      <td>SUPPL</td>\n",
       "      <td>6</td>\n",
       "      <td>AP</td>\n",
       "      <td>LABELING</td>\n",
       "      <td>Labeling</td>\n",
       "      <td>NaN</td>\n",
       "    </tr>\n",
       "  </tbody>\n",
       "</table>\n",
       "</div>"
      ],
      "text/plain": [
       "                       application_number    sponsor_name  \\\n",
       "submission_status_date                                      \n",
       "1939-03-09                      NDA000159           LILLY   \n",
       "1986-05-28                      NDA000159           LILLY   \n",
       "1986-12-09                      NDA000159           LILLY   \n",
       "2005-08-31                     ANDA076191            BARR   \n",
       "2007-09-14                     ANDA076206  ROCKWELL MEDCL   \n",
       "\n",
       "                                        brand_name submission_type  \\\n",
       "submission_status_date                                               \n",
       "1939-03-09                           SULFAPYRIDINE            ORIG   \n",
       "1986-05-28                           SULFAPYRIDINE           SUPPL   \n",
       "1986-12-09                           SULFAPYRIDINE           SUPPL   \n",
       "2005-08-31              FEXOFENADINE HYDROCHLORIDE            ORIG   \n",
       "2007-09-14                              CALCITRIOL           SUPPL   \n",
       "\n",
       "                        submission_number submission_status  \\\n",
       "submission_status_date                                        \n",
       "1939-03-09                              1                AP   \n",
       "1986-05-28                              4                AP   \n",
       "1986-12-09                              3                AP   \n",
       "2005-08-31                              1                AP   \n",
       "2007-09-14                              6                AP   \n",
       "\n",
       "                       submission_class_code  \\\n",
       "submission_status_date                         \n",
       "1939-03-09                               NaN   \n",
       "1986-05-28                          LABELING   \n",
       "1986-12-09                          LABELING   \n",
       "2005-08-31                               NaN   \n",
       "2007-09-14                          LABELING   \n",
       "\n",
       "                       submission_class_code_description review_priority  \n",
       "submission_status_date                                                    \n",
       "1939-03-09                                           NaN             NaN  \n",
       "1986-05-28                                      Labeling             NaN  \n",
       "1986-12-09                                      Labeling             NaN  \n",
       "2005-08-31                                           NaN             NaN  \n",
       "2007-09-14                                      Labeling             NaN  "
      ]
     },
     "execution_count": 275,
     "metadata": {},
     "output_type": "execute_result"
    }
   ],
   "source": [
    "submissions_data_date_index.head()"
   ]
  },
  {
   "cell_type": "code",
   "execution_count": 276,
   "metadata": {},
   "outputs": [],
   "source": [
    "submissions_data_date_index['year'] = submissions_data_date_index.index.year\n",
    "submissions_data_date_index['month'] = submissions_data_date_index.index.month\n",
    "submissions_data_date_index['day'] = submissions_data_date_index.index.day\n",
    "submissions_data_date_index['day_of_week'] = submissions_data_date_index.index.dayofweek\n"
   ]
  },
  {
   "cell_type": "code",
   "execution_count": 277,
   "metadata": {},
   "outputs": [
    {
     "data": {
      "text/html": [
       "<div>\n",
       "<style scoped>\n",
       "    .dataframe tbody tr th:only-of-type {\n",
       "        vertical-align: middle;\n",
       "    }\n",
       "\n",
       "    .dataframe tbody tr th {\n",
       "        vertical-align: top;\n",
       "    }\n",
       "\n",
       "    .dataframe thead th {\n",
       "        text-align: right;\n",
       "    }\n",
       "</style>\n",
       "<table border=\"1\" class=\"dataframe\">\n",
       "  <thead>\n",
       "    <tr style=\"text-align: right;\">\n",
       "      <th></th>\n",
       "      <th>application_number</th>\n",
       "      <th>sponsor_name</th>\n",
       "      <th>brand_name</th>\n",
       "      <th>submission_type</th>\n",
       "      <th>submission_number</th>\n",
       "      <th>submission_status</th>\n",
       "      <th>submission_class_code</th>\n",
       "      <th>submission_class_code_description</th>\n",
       "      <th>review_priority</th>\n",
       "      <th>year</th>\n",
       "      <th>month</th>\n",
       "      <th>day</th>\n",
       "      <th>day_of_week</th>\n",
       "    </tr>\n",
       "    <tr>\n",
       "      <th>submission_status_date</th>\n",
       "      <th></th>\n",
       "      <th></th>\n",
       "      <th></th>\n",
       "      <th></th>\n",
       "      <th></th>\n",
       "      <th></th>\n",
       "      <th></th>\n",
       "      <th></th>\n",
       "      <th></th>\n",
       "      <th></th>\n",
       "      <th></th>\n",
       "      <th></th>\n",
       "      <th></th>\n",
       "    </tr>\n",
       "  </thead>\n",
       "  <tbody>\n",
       "    <tr>\n",
       "      <th>1939-03-09</th>\n",
       "      <td>NDA000159</td>\n",
       "      <td>LILLY</td>\n",
       "      <td>SULFAPYRIDINE</td>\n",
       "      <td>ORIG</td>\n",
       "      <td>1</td>\n",
       "      <td>AP</td>\n",
       "      <td>NaN</td>\n",
       "      <td>NaN</td>\n",
       "      <td>NaN</td>\n",
       "      <td>1939</td>\n",
       "      <td>3</td>\n",
       "      <td>9</td>\n",
       "      <td>3</td>\n",
       "    </tr>\n",
       "    <tr>\n",
       "      <th>1986-05-28</th>\n",
       "      <td>NDA000159</td>\n",
       "      <td>LILLY</td>\n",
       "      <td>SULFAPYRIDINE</td>\n",
       "      <td>SUPPL</td>\n",
       "      <td>4</td>\n",
       "      <td>AP</td>\n",
       "      <td>LABELING</td>\n",
       "      <td>Labeling</td>\n",
       "      <td>NaN</td>\n",
       "      <td>1986</td>\n",
       "      <td>5</td>\n",
       "      <td>28</td>\n",
       "      <td>2</td>\n",
       "    </tr>\n",
       "    <tr>\n",
       "      <th>1986-12-09</th>\n",
       "      <td>NDA000159</td>\n",
       "      <td>LILLY</td>\n",
       "      <td>SULFAPYRIDINE</td>\n",
       "      <td>SUPPL</td>\n",
       "      <td>3</td>\n",
       "      <td>AP</td>\n",
       "      <td>LABELING</td>\n",
       "      <td>Labeling</td>\n",
       "      <td>NaN</td>\n",
       "      <td>1986</td>\n",
       "      <td>12</td>\n",
       "      <td>9</td>\n",
       "      <td>1</td>\n",
       "    </tr>\n",
       "    <tr>\n",
       "      <th>2005-08-31</th>\n",
       "      <td>ANDA076191</td>\n",
       "      <td>BARR</td>\n",
       "      <td>FEXOFENADINE HYDROCHLORIDE</td>\n",
       "      <td>ORIG</td>\n",
       "      <td>1</td>\n",
       "      <td>AP</td>\n",
       "      <td>NaN</td>\n",
       "      <td>NaN</td>\n",
       "      <td>NaN</td>\n",
       "      <td>2005</td>\n",
       "      <td>8</td>\n",
       "      <td>31</td>\n",
       "      <td>2</td>\n",
       "    </tr>\n",
       "    <tr>\n",
       "      <th>2007-09-14</th>\n",
       "      <td>ANDA076206</td>\n",
       "      <td>ROCKWELL MEDCL</td>\n",
       "      <td>CALCITRIOL</td>\n",
       "      <td>SUPPL</td>\n",
       "      <td>6</td>\n",
       "      <td>AP</td>\n",
       "      <td>LABELING</td>\n",
       "      <td>Labeling</td>\n",
       "      <td>NaN</td>\n",
       "      <td>2007</td>\n",
       "      <td>9</td>\n",
       "      <td>14</td>\n",
       "      <td>4</td>\n",
       "    </tr>\n",
       "  </tbody>\n",
       "</table>\n",
       "</div>"
      ],
      "text/plain": [
       "                       application_number    sponsor_name  \\\n",
       "submission_status_date                                      \n",
       "1939-03-09                      NDA000159           LILLY   \n",
       "1986-05-28                      NDA000159           LILLY   \n",
       "1986-12-09                      NDA000159           LILLY   \n",
       "2005-08-31                     ANDA076191            BARR   \n",
       "2007-09-14                     ANDA076206  ROCKWELL MEDCL   \n",
       "\n",
       "                                        brand_name submission_type  \\\n",
       "submission_status_date                                               \n",
       "1939-03-09                           SULFAPYRIDINE            ORIG   \n",
       "1986-05-28                           SULFAPYRIDINE           SUPPL   \n",
       "1986-12-09                           SULFAPYRIDINE           SUPPL   \n",
       "2005-08-31              FEXOFENADINE HYDROCHLORIDE            ORIG   \n",
       "2007-09-14                              CALCITRIOL           SUPPL   \n",
       "\n",
       "                        submission_number submission_status  \\\n",
       "submission_status_date                                        \n",
       "1939-03-09                              1                AP   \n",
       "1986-05-28                              4                AP   \n",
       "1986-12-09                              3                AP   \n",
       "2005-08-31                              1                AP   \n",
       "2007-09-14                              6                AP   \n",
       "\n",
       "                       submission_class_code  \\\n",
       "submission_status_date                         \n",
       "1939-03-09                               NaN   \n",
       "1986-05-28                          LABELING   \n",
       "1986-12-09                          LABELING   \n",
       "2005-08-31                               NaN   \n",
       "2007-09-14                          LABELING   \n",
       "\n",
       "                       submission_class_code_description review_priority  \\\n",
       "submission_status_date                                                     \n",
       "1939-03-09                                           NaN             NaN   \n",
       "1986-05-28                                      Labeling             NaN   \n",
       "1986-12-09                                      Labeling             NaN   \n",
       "2005-08-31                                           NaN             NaN   \n",
       "2007-09-14                                      Labeling             NaN   \n",
       "\n",
       "                        year  month  day  day_of_week  \n",
       "submission_status_date                                 \n",
       "1939-03-09              1939      3    9            3  \n",
       "1986-05-28              1986      5   28            2  \n",
       "1986-12-09              1986     12    9            1  \n",
       "2005-08-31              2005      8   31            2  \n",
       "2007-09-14              2007      9   14            4  "
      ]
     },
     "execution_count": 277,
     "metadata": {},
     "output_type": "execute_result"
    }
   ],
   "source": [
    "submissions_data_date_index.head()"
   ]
  },
  {
   "cell_type": "code",
   "execution_count": 287,
   "metadata": {},
   "outputs": [],
   "source": [
    "submissions_data_date_index.sort_index(axis=0, ascending=True, inplace=True)"
   ]
  },
  {
   "cell_type": "code",
   "execution_count": 289,
   "metadata": {},
   "outputs": [
    {
     "data": {
      "text/html": [
       "<div>\n",
       "<style scoped>\n",
       "    .dataframe tbody tr th:only-of-type {\n",
       "        vertical-align: middle;\n",
       "    }\n",
       "\n",
       "    .dataframe tbody tr th {\n",
       "        vertical-align: top;\n",
       "    }\n",
       "\n",
       "    .dataframe thead th {\n",
       "        text-align: right;\n",
       "    }\n",
       "</style>\n",
       "<table border=\"1\" class=\"dataframe\">\n",
       "  <thead>\n",
       "    <tr style=\"text-align: right;\">\n",
       "      <th></th>\n",
       "      <th>application_number</th>\n",
       "      <th>sponsor_name</th>\n",
       "      <th>brand_name</th>\n",
       "      <th>submission_type</th>\n",
       "      <th>submission_number</th>\n",
       "      <th>submission_status</th>\n",
       "      <th>submission_class_code</th>\n",
       "      <th>submission_class_code_description</th>\n",
       "      <th>review_priority</th>\n",
       "      <th>year</th>\n",
       "      <th>month</th>\n",
       "      <th>day</th>\n",
       "      <th>day_of_week</th>\n",
       "    </tr>\n",
       "    <tr>\n",
       "      <th>submission_status_date</th>\n",
       "      <th></th>\n",
       "      <th></th>\n",
       "      <th></th>\n",
       "      <th></th>\n",
       "      <th></th>\n",
       "      <th></th>\n",
       "      <th></th>\n",
       "      <th></th>\n",
       "      <th></th>\n",
       "      <th></th>\n",
       "      <th></th>\n",
       "      <th></th>\n",
       "      <th></th>\n",
       "    </tr>\n",
       "  </thead>\n",
       "  <tbody>\n",
       "    <tr>\n",
       "      <th>2024-10-04</th>\n",
       "      <td>ANDA214138</td>\n",
       "      <td>ALKEM LABS LTD</td>\n",
       "      <td>EVEROLIMUS</td>\n",
       "      <td>SUPPL</td>\n",
       "      <td>9</td>\n",
       "      <td>AP</td>\n",
       "      <td>LABELING</td>\n",
       "      <td>Labeling</td>\n",
       "      <td>STANDARD</td>\n",
       "      <td>2024</td>\n",
       "      <td>10</td>\n",
       "      <td>4</td>\n",
       "      <td>4</td>\n",
       "    </tr>\n",
       "    <tr>\n",
       "      <th>2024-10-04</th>\n",
       "      <td>NDA208081</td>\n",
       "      <td>BIOFRONTERA</td>\n",
       "      <td>AMELUZ</td>\n",
       "      <td>SUPPL</td>\n",
       "      <td>28</td>\n",
       "      <td>AP</td>\n",
       "      <td>EFFICACY</td>\n",
       "      <td>Efficacy</td>\n",
       "      <td>STANDARD</td>\n",
       "      <td>2024</td>\n",
       "      <td>10</td>\n",
       "      <td>4</td>\n",
       "      <td>4</td>\n",
       "    </tr>\n",
       "    <tr>\n",
       "      <th>2024-10-04</th>\n",
       "      <td>NDA020438</td>\n",
       "      <td>CHEPLAPHARM</td>\n",
       "      <td>VESANOID</td>\n",
       "      <td>SUPPL</td>\n",
       "      <td>9</td>\n",
       "      <td>AP</td>\n",
       "      <td>LABELING</td>\n",
       "      <td>Labeling</td>\n",
       "      <td>STANDARD</td>\n",
       "      <td>2024</td>\n",
       "      <td>10</td>\n",
       "      <td>4</td>\n",
       "      <td>4</td>\n",
       "    </tr>\n",
       "    <tr>\n",
       "      <th>2024-10-04</th>\n",
       "      <td>BLA761349</td>\n",
       "      <td>NOVARTIS PHARMS CORP</td>\n",
       "      <td>COSENTYX</td>\n",
       "      <td>SUPPL</td>\n",
       "      <td>5</td>\n",
       "      <td>AP</td>\n",
       "      <td>LABELING</td>\n",
       "      <td>Labeling</td>\n",
       "      <td>STANDARD</td>\n",
       "      <td>2024</td>\n",
       "      <td>10</td>\n",
       "      <td>4</td>\n",
       "      <td>4</td>\n",
       "    </tr>\n",
       "    <tr>\n",
       "      <th>2024-10-04</th>\n",
       "      <td>ANDA218427</td>\n",
       "      <td>APOPHARMA A DIV OF APOTEX INC</td>\n",
       "      <td>NaN</td>\n",
       "      <td>ORIG</td>\n",
       "      <td>1</td>\n",
       "      <td>TA</td>\n",
       "      <td>UNKNOWN</td>\n",
       "      <td>NaN</td>\n",
       "      <td>STANDARD</td>\n",
       "      <td>2024</td>\n",
       "      <td>10</td>\n",
       "      <td>4</td>\n",
       "      <td>4</td>\n",
       "    </tr>\n",
       "  </tbody>\n",
       "</table>\n",
       "</div>"
      ],
      "text/plain": [
       "                       application_number                   sponsor_name  \\\n",
       "submission_status_date                                                     \n",
       "2024-10-04                     ANDA214138                 ALKEM LABS LTD   \n",
       "2024-10-04                      NDA208081                    BIOFRONTERA   \n",
       "2024-10-04                      NDA020438                    CHEPLAPHARM   \n",
       "2024-10-04                      BLA761349           NOVARTIS PHARMS CORP   \n",
       "2024-10-04                     ANDA218427  APOPHARMA A DIV OF APOTEX INC   \n",
       "\n",
       "                        brand_name submission_type  submission_number  \\\n",
       "submission_status_date                                                  \n",
       "2024-10-04              EVEROLIMUS           SUPPL                  9   \n",
       "2024-10-04                  AMELUZ           SUPPL                 28   \n",
       "2024-10-04                VESANOID           SUPPL                  9   \n",
       "2024-10-04                COSENTYX           SUPPL                  5   \n",
       "2024-10-04                     NaN            ORIG                  1   \n",
       "\n",
       "                       submission_status submission_class_code  \\\n",
       "submission_status_date                                           \n",
       "2024-10-04                            AP              LABELING   \n",
       "2024-10-04                            AP              EFFICACY   \n",
       "2024-10-04                            AP              LABELING   \n",
       "2024-10-04                            AP              LABELING   \n",
       "2024-10-04                            TA               UNKNOWN   \n",
       "\n",
       "                       submission_class_code_description review_priority  \\\n",
       "submission_status_date                                                     \n",
       "2024-10-04                                      Labeling        STANDARD   \n",
       "2024-10-04                                      Efficacy        STANDARD   \n",
       "2024-10-04                                      Labeling        STANDARD   \n",
       "2024-10-04                                      Labeling        STANDARD   \n",
       "2024-10-04                                           NaN        STANDARD   \n",
       "\n",
       "                        year  month  day  day_of_week  \n",
       "submission_status_date                                 \n",
       "2024-10-04              2024     10    4            4  \n",
       "2024-10-04              2024     10    4            4  \n",
       "2024-10-04              2024     10    4            4  \n",
       "2024-10-04              2024     10    4            4  \n",
       "2024-10-04              2024     10    4            4  "
      ]
     },
     "execution_count": 289,
     "metadata": {},
     "output_type": "execute_result"
    }
   ],
   "source": [
    "submissions_data_date_index.tail()"
   ]
  },
  {
   "cell_type": "markdown",
   "metadata": {},
   "source": [
    "a. Univariate analysis of the submissions_data "
   ]
  },
  {
   "cell_type": "code",
   "execution_count": 290,
   "metadata": {},
   "outputs": [
    {
     "data": {
      "text/plain": [
       "application_number\n",
       "NDA050138     229\n",
       "NDA050141     219\n",
       "NDA050317     161\n",
       "NDA016367     150\n",
       "NDA017441     146\n",
       "             ... \n",
       "ANDA204706      1\n",
       "ANDA203484      1\n",
       "ANDA091069      1\n",
       "ANDA206493      1\n",
       "ANDA218427      1\n",
       "Name: count, Length: 24977, dtype: int64"
      ]
     },
     "execution_count": 290,
     "metadata": {},
     "output_type": "execute_result"
    }
   ],
   "source": [
    "submissions_data_date_index['application_number'].value_counts()"
   ]
  },
  {
   "cell_type": "code",
   "execution_count": 291,
   "metadata": {},
   "outputs": [
    {
     "data": {
      "text/plain": [
       "brand_name\n",
       "IBUPROFEN                                    1288\n",
       "HYDROCODONE BITARTRATE AND ACETAMINOPHEN     1016\n",
       "ACETAMINOPHEN AND CODEINE PHOSPHATE           842\n",
       "AMITRIPTYLINE HYDROCHLORIDE                   717\n",
       "SODIUM CHLORIDE 0.9% IN PLASTIC CONTAINER     668\n",
       "                                             ... \n",
       "ACETAMINOPHEN; OXYCODONE HYDROCHLORIDE          1\n",
       "TIMOLOL                                         1\n",
       "VARIBAR PUDDING                                 1\n",
       "EVZIO (AUTOINJECTOR)                            1\n",
       "METHOHEXITAL SODIUM                             1\n",
       "Name: count, Length: 6810, dtype: int64"
      ]
     },
     "execution_count": 291,
     "metadata": {},
     "output_type": "execute_result"
    }
   ],
   "source": [
    "submissions_data_date_index['brand_name'].value_counts()"
   ]
  },
  {
   "cell_type": "code",
   "execution_count": 292,
   "metadata": {},
   "outputs": [
    {
     "data": {
      "text/plain": [
       "sponsor_name\n",
       "WATSON LABS        4977\n",
       "HOSPIRA            4944\n",
       "SANDOZ             4252\n",
       "HIKMA              4084\n",
       "BAXTER HLTHCARE    3744\n",
       "                   ... \n",
       "QUESTCOR PHARMA       1\n",
       "UNIV WISCONSIN        1\n",
       "BEECHAM               1\n",
       "INNOCOLL PHARMS       1\n",
       "IPCA LABS             1\n",
       "Name: count, Length: 2096, dtype: int64"
      ]
     },
     "execution_count": 292,
     "metadata": {},
     "output_type": "execute_result"
    }
   ],
   "source": [
    "submissions_data_date_index['sponsor_name'].value_counts()"
   ]
  },
  {
   "cell_type": "code",
   "execution_count": 293,
   "metadata": {},
   "outputs": [
    {
     "data": {
      "text/plain": [
       "count     178589\n",
       "unique         2\n",
       "top           AP\n",
       "freq      177544\n",
       "Name: submission_status, dtype: object"
      ]
     },
     "execution_count": 293,
     "metadata": {},
     "output_type": "execute_result"
    }
   ],
   "source": [
    "submissions_data_date_index['submission_status'].describe()"
   ]
  },
  {
   "cell_type": "code",
   "execution_count": 295,
   "metadata": {},
   "outputs": [
    {
     "data": {
      "text/plain": [
       "submission_class_code\n",
       "LABELING        80264\n",
       "MANUF (CMC)     65453\n",
       "UNKNOWN          8019\n",
       "EFFICACY         5134\n",
       "REMS             2206\n",
       "TYPE 1           1669\n",
       "TYPE 3           1604\n",
       "TYPE 5           1169\n",
       "TYPE 4            369\n",
       "S                 303\n",
       "BIOEQUIV          216\n",
       "TYPE 2            162\n",
       "TYPE 6             85\n",
       "MEDGAS             81\n",
       "TYPE 1/4           70\n",
       "TYPE 7             45\n",
       "TYPE 3/4           29\n",
       "TYPE 8             28\n",
       "TYPE 9             25\n",
       "TYPE 2/3           19\n",
       "TYPE 10            15\n",
       "TYPE 2/4            8\n",
       "BIOSIMILAR          8\n",
       "TYPE 9- BLA         6\n",
       "TYPE 4/5            6\n",
       "TYPE 10- BLA        1\n",
       "Name: count, dtype: int64"
      ]
     },
     "execution_count": 295,
     "metadata": {},
     "output_type": "execute_result"
    }
   ],
   "source": [
    "submissions_data_date_index['submission_class_code'].value_counts()"
   ]
  },
  {
   "cell_type": "code",
   "execution_count": 296,
   "metadata": {},
   "outputs": [
    {
     "data": {
      "text/plain": [
       "submission_class_code_description\n",
       "Labeling                                                                                            80264\n",
       "Manufacturing (CMC)                                                                                 65453\n",
       "Efficacy                                                                                             5134\n",
       "REMS                                                                                                 2206\n",
       "Type 1 - New Molecular Entity                                                                        1669\n",
       "Type 3 - New Dosage Form                                                                             1604\n",
       "Type 5 - New Formulation or New Manufacturer                                                         1169\n",
       "Not Applicable                                                                                        542\n",
       "Type 4 - New Combination                                                                              369\n",
       "Supplement                                                                                            303\n",
       "Bioequivalence                                                                                        216\n",
       "Type 2 - New Active Ingredient                                                                        162\n",
       "Type 6 - New Indication (no longer used)                                                               85\n",
       "Medical Gas                                                                                            81\n",
       "Type 1 - New Molecular Entity and Type 4 - New Combination                                             70\n",
       "Type 7 - Drug Already Marketed without Approved NDA                                                    45\n",
       "Type 3 - New Dosage Form and Type 4 - New Combination                                                  29\n",
       "Type 8 - Partial Rx to OTC Switch                                                                      28\n",
       "Type 9 - New Indication Submitted as Distinct NDA, Consolidated with Original NDA after Approval       25\n",
       "Type 2 - New Active Ingredient and Type 3 - New Dosage Form                                            19\n",
       "Type 10 - New Indication Submitted as Distinct NDA - Not Consolidated                                  15\n",
       "Type 2 New Active Ingredient and Type 4 New Combination                                                 8\n",
       "Type 9 - New indication submitted as distinct BLA, consolidated                                         6\n",
       "New Combination and New Formulation or New Manufacturer                                                 6\n",
       "Name: count, dtype: int64"
      ]
     },
     "execution_count": 296,
     "metadata": {},
     "output_type": "execute_result"
    }
   ],
   "source": [
    "submissions_data_date_index['submission_class_code_description'].value_counts()"
   ]
  },
  {
   "cell_type": "code",
   "execution_count": 297,
   "metadata": {},
   "outputs": [
    {
     "data": {
      "text/plain": [
       "review_priority\n",
       "STANDARD        86294\n",
       "PRIORITY        10907\n",
       "UNKNOWN          2857\n",
       "901 REQUIRED      928\n",
       "901 ORDER          13\n",
       "Name: count, dtype: int64"
      ]
     },
     "execution_count": 297,
     "metadata": {},
     "output_type": "execute_result"
    }
   ],
   "source": [
    "submissions_data_date_index['review_priority'].value_counts()"
   ]
  },
  {
   "cell_type": "code",
   "execution_count": 298,
   "metadata": {},
   "outputs": [
    {
     "data": {
      "text/plain": [
       "application_number\n",
       "NDA050138     229\n",
       "NDA050141     219\n",
       "NDA050317     161\n",
       "NDA016367     150\n",
       "NDA017441     146\n",
       "             ... \n",
       "ANDA204706      1\n",
       "ANDA203484      1\n",
       "ANDA091069      1\n",
       "ANDA206493      1\n",
       "ANDA218427      1\n",
       "Name: count, Length: 24977, dtype: int64"
      ]
     },
     "execution_count": 298,
     "metadata": {},
     "output_type": "execute_result"
    }
   ],
   "source": [
    "submissions_data_date_index['application_number'].value_counts()"
   ]
  },
  {
   "cell_type": "code",
   "execution_count": 301,
   "metadata": {},
   "outputs": [
    {
     "data": {
      "text/plain": [
       "submission_type\n",
       "SUPPL    153628\n",
       "ORIG      24961\n",
       "Name: count, dtype: int64"
      ]
     },
     "execution_count": 301,
     "metadata": {},
     "output_type": "execute_result"
    }
   ],
   "source": [
    "submissions_data_date_index['submission_type'].value_counts()"
   ]
  },
  {
   "cell_type": "markdown",
   "metadata": {},
   "source": [
    "2. Bivariate analysis"
   ]
  },
  {
   "cell_type": "code",
   "execution_count": 304,
   "metadata": {},
   "outputs": [
    {
     "name": "stdout",
     "output_type": "stream",
     "text": [
      "<class 'pandas.core.frame.DataFrame'>\n",
      "DatetimeIndex: 178589 entries, 1939-02-09 to 2024-10-04\n",
      "Data columns (total 13 columns):\n",
      " #   Column                             Non-Null Count   Dtype \n",
      "---  ------                             --------------   ----- \n",
      " 0   application_number                 178589 non-null  object\n",
      " 1   sponsor_name                       178589 non-null  object\n",
      " 2   brand_name                         178233 non-null  object\n",
      " 3   submission_type                    178589 non-null  object\n",
      " 4   submission_number                  178589 non-null  int64 \n",
      " 5   submission_status                  178589 non-null  object\n",
      " 6   submission_class_code              166994 non-null  object\n",
      " 7   submission_class_code_description  159508 non-null  object\n",
      " 8   review_priority                    100999 non-null  object\n",
      " 9   year                               178589 non-null  int32 \n",
      " 10  month                              178589 non-null  int32 \n",
      " 11  day                                178589 non-null  int32 \n",
      " 12  day_of_week                        178589 non-null  int32 \n",
      "dtypes: int32(4), int64(1), object(8)\n",
      "memory usage: 16.4+ MB\n"
     ]
    }
   ],
   "source": [
    "submissions_data_date_index.info()"
   ]
  },
  {
   "cell_type": "code",
   "execution_count": 313,
   "metadata": {},
   "outputs": [
    {
     "data": {
      "text/plain": [
       "sponsor_name\n",
       "APOPHARMA A DIV OF APOTEX INC           0\n",
       "JIANGSU HENGRUI MED                     0\n",
       "BIONPHARMA INC                          0\n",
       "ASTRAZENECA PHARMS                      0\n",
       "SHANGHAI DESANO BIO-PHARMA CO LTD       0\n",
       "                                     ... \n",
       "BAXTER HLTHCARE                      3744\n",
       "HIKMA                                4084\n",
       "SANDOZ                               4230\n",
       "HOSPIRA                              4944\n",
       "WATSON LABS                          4976\n",
       "Name: brand_name, Length: 2096, dtype: int64"
      ]
     },
     "execution_count": 313,
     "metadata": {},
     "output_type": "execute_result"
    }
   ],
   "source": [
    "submissions_data_date_index.groupby(\"sponsor_name\")['brand_name'].count().sort_values()"
   ]
  }
 ],
 "metadata": {
  "kernelspec": {
   "display_name": "Python 3",
   "language": "python",
   "name": "python3"
  },
  "language_info": {
   "codemirror_mode": {
    "name": "ipython",
    "version": 3
   },
   "file_extension": ".py",
   "mimetype": "text/x-python",
   "name": "python",
   "nbconvert_exporter": "python",
   "pygments_lexer": "ipython3",
   "version": "3.12.5"
  }
 },
 "nbformat": 4,
 "nbformat_minor": 2
}
